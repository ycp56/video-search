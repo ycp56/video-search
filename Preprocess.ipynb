{
 "cells": [
  {
   "cell_type": "code",
   "execution_count": 1,
   "id": "d89b9fc3-a87d-42f7-97e5-332ee781957f",
   "metadata": {},
   "outputs": [
    {
     "name": "stdout",
     "output_type": "stream",
     "text": [
      "Intel MKL WARNING: Support of Intel(R) Streaming SIMD Extensions 4.2 (Intel(R) SSE4.2) enabled only processors has been deprecated. Intel oneAPI Math Kernel Library 2025.0 will require Intel(R) Advanced Vector Extensions (Intel(R) AVX) instructions.\n",
      "Intel MKL WARNING: Support of Intel(R) Streaming SIMD Extensions 4.2 (Intel(R) SSE4.2) enabled only processors has been deprecated. Intel oneAPI Math Kernel Library 2025.0 will require Intel(R) Advanced Vector Extensions (Intel(R) AVX) instructions.\n"
     ]
    }
   ],
   "source": [
    "import pickle\n",
    "import cv2\n",
    "import hashlib"
   ]
  },
  {
   "cell_type": "code",
   "execution_count": 2,
   "id": "4d41f8e2-32c4-42c2-ad40-4833cf10679b",
   "metadata": {},
   "outputs": [],
   "source": [
    "def frame_hash(frame):\n",
    "    \n",
    "    # Convert frame to grayscale\n",
    "    gray_frame = cv2.cvtColor(frame, cv2.COLOR_BGR2GRAY)\n",
    "\n",
    "    # Calculate mean\n",
    "    mean_val = gray_frame.mean()\n",
    "\n",
    "    # Create a hash\n",
    "    hash_val = hashlib.md5(str(mean_val).encode()).hexdigest()\n",
    "\n",
    "    return hash_val"
   ]
  },
  {
   "cell_type": "code",
   "execution_count": 3,
   "id": "eb0fb168-3e44-4631-a358-01934ab6abc4",
   "metadata": {},
   "outputs": [],
   "source": [
    "for i in range(1, 21):\n",
    "    video_filename = f'../Videos/video{i}.mp4'\n",
    "    cap = cv2.VideoCapture(video_filename)\n",
    "\n",
    "    if not cap.isOpened():\n",
    "        print(f\"Could not open {video_filename}\")\n",
    "    else:\n",
    "        frame_hashes = [[] for _ in range(11)]\n",
    "        eov = True\n",
    "    \n",
    "        while eov:\n",
    "            for j in range(10):\n",
    "                ret, frame = cap.read()\n",
    "                if not ret:\n",
    "                    eov = False\n",
    "                    break  # Break the loop if the video ends\n",
    "            \n",
    "                # Process frame to get hash\n",
    "                hash_val = frame_hash(frame)\n",
    "            \n",
    "                # Store hash value\n",
    "                frame_hashes[10].append(hash_val)\n",
    "                frame_hashes[j].append(hash_val)\n",
    "                \n",
    "        cap.release()\n",
    "        cv2.destroyAllWindows()\n",
    "\n",
    "        filename = f'vpkl/v_{i}.pkl'\n",
    "        with open(filename, 'wb') as file:\n",
    "            pickle.dump(frame_hashes[10], file)\n",
    "\n",
    "        for j in range(10):\n",
    "            filename = f'vpkl/v_{i}_{j}.pkl'\n",
    "            with open(filename, 'wb') as file:\n",
    "                pickle.dump(frame_hashes[j], file)"
   ]
  }
 ],
 "metadata": {
  "kernelspec": {
   "display_name": "Python 3 (ipykernel)",
   "language": "python",
   "name": "python3"
  },
  "language_info": {
   "codemirror_mode": {
    "name": "ipython",
    "version": 3
   },
   "file_extension": ".py",
   "mimetype": "text/x-python",
   "name": "python",
   "nbconvert_exporter": "python",
   "pygments_lexer": "ipython3",
   "version": "3.9.18"
  }
 },
 "nbformat": 4,
 "nbformat_minor": 5
}
