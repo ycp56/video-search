{
 "cells": [
  {
   "cell_type": "code",
   "execution_count": 1,
   "id": "e189640b-4e6c-4be2-a1ea-964f25ade215",
   "metadata": {},
   "outputs": [
    {
     "name": "stdout",
     "output_type": "stream",
     "text": [
      "Intel MKL WARNING: Support of Intel(R) Streaming SIMD Extensions 4.2 (Intel(R) SSE4.2) enabled only processors has been deprecated. Intel oneAPI Math Kernel Library 2025.0 will require Intel(R) Advanced Vector Extensions (Intel(R) AVX) instructions.\n",
      "Intel MKL WARNING: Support of Intel(R) Streaming SIMD Extensions 4.2 (Intel(R) SSE4.2) enabled only processors has been deprecated. Intel oneAPI Math Kernel Library 2025.0 will require Intel(R) Advanced Vector Extensions (Intel(R) AVX) instructions.\n"
     ]
    }
   ],
   "source": [
    "import pickle\n",
    "import cv2\n",
    "import hashlib\n",
    "import time"
   ]
  },
  {
   "cell_type": "code",
   "execution_count": 2,
   "id": "f45f8c02-9daf-4bbe-8730-18693158161d",
   "metadata": {},
   "outputs": [],
   "source": [
    "start_time = time.time()"
   ]
  },
  {
   "cell_type": "code",
   "execution_count": 3,
   "id": "847645ea-6e2a-4d45-acb3-691e33da0d01",
   "metadata": {},
   "outputs": [],
   "source": [
    "def frame_hash(frame):\n",
    "    \n",
    "    # Convert frame to grayscale\n",
    "    gray_frame = cv2.cvtColor(frame, cv2.COLOR_BGR2GRAY)\n",
    "\n",
    "    # Calculate mean\n",
    "    mean_val = gray_frame.mean()\n",
    "\n",
    "    # Create a hash\n",
    "    hash_val = hashlib.md5(str(mean_val).encode()).hexdigest()\n",
    "\n",
    "    return hash_val"
   ]
  },
  {
   "cell_type": "code",
   "execution_count": 4,
   "id": "5b252aff-1483-4925-83b4-6aa6877c2b77",
   "metadata": {},
   "outputs": [],
   "source": [
    "video_filename = f'../Queries/video11_1.mp4'\n",
    "cap = cv2.VideoCapture(video_filename)\n",
    "\n",
    "if not cap.isOpened():\n",
    "    print(f\"Could not open {video_filename}\")\n",
    "else:\n",
    "    frame_hashes_all = []\n",
    "    frame_hashes_10 = []\n",
    "    frame_count = 0\n",
    "\n",
    "    while True:\n",
    "        ret, frame = cap.read()\n",
    "        if not ret:\n",
    "            break  # Break the loop if the video ends\n",
    "    \n",
    "        # Process frame to get hash\n",
    "        hash_val = frame_hash(frame)\n",
    "    \n",
    "        # Store hash value\n",
    "        frame_hashes_all.append(hash_val)\n",
    "        if frame_count % 10 == 0:\n",
    "            frame_hashes_10.append(hash_val)\n",
    "\n",
    "        frame_count += 1\n",
    "        \n",
    "    cap.release()\n",
    "    cv2.destroyAllWindows()"
   ]
  },
  {
   "cell_type": "code",
   "execution_count": 5,
   "id": "03f71910-f166-4dc3-864c-82c6a10018e0",
   "metadata": {},
   "outputs": [],
   "source": [
    "# def is_video_contained(main_video_hashes, sub_video_hashes, similarity_threshold=0.95):\n",
    "def is_video_contained(main_video_hashes, sub_video_hashes):\n",
    "    len_sub = len(sub_video_hashes)\n",
    "    len_main = len(main_video_hashes)\n",
    "\n",
    "    for i in range(len_main - len_sub + 1):\n",
    "        # matching_frames = 0\n",
    "        # for j in range(len_sub):\n",
    "        #     if main_video_hashes[i + j] == sub_video_hashes[j]:\n",
    "        #         matching_frames += 1\n",
    "\n",
    "        # similarity = matching_frames / len_sub\n",
    "        # if similarity >= similarity_threshold:\n",
    "        #     return True, i  # Returns True and the starting index in the main video\n",
    "\n",
    "        if main_video_hashes[i:i+len_sub] == sub_video_hashes:\n",
    "            return i\n",
    "\n",
    "    return -1"
   ]
  },
  {
   "cell_type": "code",
   "execution_count": 6,
   "id": "f7ef3ee8-65db-4866-af1b-0bcbd4b6625e",
   "metadata": {},
   "outputs": [
    {
     "name": "stdout",
     "output_type": "stream",
     "text": [
      "Video: 11\n",
      "Frame #: 8130\n"
     ]
    }
   ],
   "source": [
    "vno = 0\n",
    "for i in range(1, 21):\n",
    "    fno = -1\n",
    "    for j in range(10):\n",
    "        filename = f'vpkl/v_{i}_{j}.pkl'\n",
    "        with open(filename, 'rb') as file:\n",
    "            v_10 = pickle.load(file)\n",
    "            \n",
    "        fno = is_video_contained(v_10, frame_hashes_10)\n",
    "        \n",
    "        if fno != -1:\n",
    "            fno = j + 10 * fno\n",
    "            break\n",
    "\n",
    "    if fno != -1:\n",
    "        filename = f'vpkl/v_{i}.pkl'\n",
    "        with open(filename, 'rb') as file:\n",
    "            v_all = pickle.load(file)\n",
    "\n",
    "        if v_all[fno:fno+len(frame_hashes_all)] == frame_hashes_all:\n",
    "            vno = i\n",
    "            print('Video:', vno)\n",
    "            print('Frame #:', fno - 1)\n",
    "            break"
   ]
  },
  {
   "cell_type": "code",
   "execution_count": 7,
   "id": "c3a0c767-ce13-42f2-a655-cd4b9bc57c4b",
   "metadata": {},
   "outputs": [
    {
     "name": "stdout",
     "output_type": "stream",
     "text": [
      "Time elapsed: 0.2219700813293457\n"
     ]
    }
   ],
   "source": [
    "print('Time elapsed:', time.time() - start_time)"
   ]
  }
 ],
 "metadata": {
  "kernelspec": {
   "display_name": "Python 3 (ipykernel)",
   "language": "python",
   "name": "python3"
  },
  "language_info": {
   "codemirror_mode": {
    "name": "ipython",
    "version": 3
   },
   "file_extension": ".py",
   "mimetype": "text/x-python",
   "name": "python",
   "nbconvert_exporter": "python",
   "pygments_lexer": "ipython3",
   "version": "3.9.18"
  }
 },
 "nbformat": 4,
 "nbformat_minor": 5
}
